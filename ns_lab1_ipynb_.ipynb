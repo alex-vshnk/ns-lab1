{
  "nbformat": 4,
  "nbformat_minor": 0,
  "metadata": {
    "colab": {
      "provenance": []
    },
    "kernelspec": {
      "name": "python3",
      "display_name": "Python 3"
    },
    "language_info": {
      "name": "python"
    }
  },
  "cells": [
    {
      "cell_type": "code",
      "execution_count": 1,
      "metadata": {
        "id": "a9uUzT9XAkX5"
      },
      "outputs": [],
      "source": [
        "import numpy as np\n",
        "import random\n",
        "from sklearn.metrics import accuracy_score"
      ]
    },
    {
      "cell_type": "code",
      "source": [
        "def bit_func(x, y):\n",
        "  return x | y & ~y"
      ],
      "metadata": {
        "id": "Yl-2tl83-3dg"
      },
      "execution_count": 2,
      "outputs": []
    },
    {
      "cell_type": "code",
      "source": [
        "def step_func(x):\n",
        "  if(x > 0):\n",
        "    return 1\n",
        "  else:\n",
        "    return 0\n",
        "\n",
        "class Neuron:\n",
        "  def __init__(self, weights, bias):\n",
        "    self.weights = weights\n",
        "    self.bias = bias\n",
        "\n",
        "  def get_sum(self, x):\n",
        "    sum = self.bias\n",
        "    for i in range(len(self.weights)):\n",
        "      sum += self.weights[i] * x[i]\n",
        "    return sum\n",
        "\n",
        "  def feed(self, x):\n",
        "    y = step_func(self.get_sum(x))\n",
        "    return y\n",
        "    \n",
        "  def print_params(self):\n",
        "    n_str = ''\n",
        "    for i in range(len(self.weights)):\n",
        "      n_str += str(self.weights[i]) + \" \"\n",
        "    print(n_str + str(self.bias))\n",
        "\n",
        "class Network:\n",
        "  def __init__(self):\n",
        "    self.n1 = Neuron([random.randint(-5, 5), random.randint(-5, 5)], random.randint(-5, 5))\n",
        "    self.n2 = Neuron([random.randint(-5, 5), random.randint(-5, 5)], random.randint(-5, 5))\n",
        "    self.o1 = Neuron([random.randint(-5, 5), random.randint(-5, 5)], random.randint(-5, 5))\n",
        "\n",
        "  def printNeurons(self):\n",
        "    print(\"[\" + str(round(self.n1.weights[0], 2)) + \" \" + str(round(self.n1.weights[1], 2)) + \" \" + str(round(self.n1.bias, 2)) + \" \" +\n",
        "                str(round(self.n2.weights[0], 2)) + \" \" + str(round(self.n2.weights[1], 2)) + \" \" + str(round(self.n2.bias, 2)) + \" \" +\n",
        "                str(round(self.o1.weights[0], 2)) + \" \" + str(round(self.o1.weights[1], 2)) + \" \" + str(round(self.o1.bias, 2)) + \"]\")\n",
        " \n",
        "  def predict(self, data):\n",
        "    y_pred = []\n",
        "    for x in data:\n",
        "      h1 = self.n1.feed(x)\n",
        "      h2 = self.n2.feed(x)\n",
        "      h = [h1, h2]\n",
        "      y_pred.append(self.o1.feed(h))\n",
        "    return(y_pred)\n",
        "\n",
        "  def trainHebb(self, data, y_trues):\n",
        "    epochs = 15\n",
        "    self.printNeurons()\n",
        "    # Цикл по эпохам\n",
        "    for epoch in range(epochs):\n",
        "      # Цикл по данным\n",
        "      for x, y_true in zip(data, y_trues):\n",
        "        # Вычисление воходов нейронов первого слоя\n",
        "        h1 = self.n1.feed(x)\n",
        "        h2 = self.n2.feed(x)\n",
        "        h = [h1, h2]\n",
        "        # Вычисление выхода сети\n",
        "        out1 = self.o1.feed(h)\n",
        "        delta = y_true - out1\n",
        "        # Сравнение с правильным ответом и коррекция весов\n",
        "        for i in range(len(x)):\n",
        "          self.n1.weights[i] += x[i] * delta\n",
        "          self.n2.weights[i] += x[i] * delta\n",
        "          self.o1.weights[i] += h[i] * delta\n",
        "        self.n1.bias += delta\n",
        "        self.n2.bias += delta\n",
        "        self.o1.bias += delta\n",
        "      # Оценка точности на каждой эпохе\n",
        "      y_preds = self.predict(data)\n",
        "      acc = accuracy_score(y_trues, y_preds)\n",
        "      print(\"Epoch %d acc: %.3f\" % (epoch, acc))\n",
        "      self.printNeurons()\n",
        "    # Оценка точности после обучения\n",
        "    y_preds = self.predict(data)\n",
        "    acc = accuracy_score(y_trues, y_preds)\n",
        "    print(\"acc: \" + str(acc))\n",
        "    self.printNeurons()\n",
        "      \n",
        "all_data = np.array([\n",
        "  [0, 0],\n",
        "  [1, 0],\n",
        "  [0, 1],\n",
        "  [1, 1],\n",
        "])\n",
        "\n",
        "all_y_trues = np.array([\n",
        "  0,\n",
        "  1,\n",
        "  1,\n",
        "  1,\n",
        "])\n",
        "\n",
        "network = Network()\n",
        "network.trainHebb(all_data, all_y_trues)"
      ],
      "metadata": {
        "id": "_TqPuDO9Anai",
        "colab": {
          "base_uri": "https://localhost:8080/"
        },
        "outputId": "eb47733e-7841-4042-e337-30eec8a19297"
      },
      "execution_count": 3,
      "outputs": [
        {
          "output_type": "stream",
          "name": "stdout",
          "text": [
            "[2 4 -5 -4 -2 -2 -5 2 5]\n",
            "Epoch 0 acc: 0.750\n",
            "[2 4 -6 -4 -2 -3 -5 2 4]\n",
            "Epoch 1 acc: 0.750\n",
            "[2 4 -7 -4 -2 -4 -5 2 3]\n",
            "Epoch 2 acc: 0.750\n",
            "[2 4 -8 -4 -2 -5 -5 2 2]\n",
            "Epoch 3 acc: 0.750\n",
            "[2 4 -9 -4 -2 -6 -5 2 1]\n",
            "Epoch 4 acc: 0.750\n",
            "[3 4 -9 -3 -2 -6 -5 2 1]\n",
            "Epoch 5 acc: 0.750\n",
            "[4 4 -9 -2 -2 -6 -5 2 1]\n",
            "Epoch 6 acc: 0.750\n",
            "[5 4 -9 -1 -2 -6 -5 2 1]\n",
            "Epoch 7 acc: 0.500\n",
            "[7 5 -8 1 -1 -5 -4 2 2]\n",
            "Epoch 8 acc: 0.500\n",
            "[8 6 -8 2 0 -5 -3 2 2]\n",
            "Epoch 9 acc: 0.250\n",
            "[9 7 -8 3 1 -5 -2 2 2]\n",
            "Epoch 10 acc: 0.750\n",
            "[10 8 -8 4 2 -5 -1 2 2]\n",
            "Epoch 11 acc: 0.750\n",
            "[11 8 -8 5 2 -5 0 2 2]\n",
            "Epoch 12 acc: 0.750\n",
            "[11 8 -9 5 2 -6 0 2 1]\n",
            "Epoch 13 acc: 0.750\n",
            "[12 8 -9 6 2 -6 1 2 1]\n",
            "Epoch 14 acc: 0.750\n",
            "[12 9 -9 6 3 -6 1 2 1]\n",
            "acc: 0.75\n",
            "[12 9 -9 6 3 -6 1 2 1]\n"
          ]
        }
      ]
    }
  ]
}